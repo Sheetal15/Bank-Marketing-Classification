{
 "cells": [
  {
   "cell_type": "markdown",
   "metadata": {},
   "source": [
    "# Importing the libraries"
   ]
  },
  {
   "cell_type": "code",
   "execution_count": 50,
   "metadata": {},
   "outputs": [],
   "source": [
    "#For SMOTE\n",
    "#! pip install imblearn"
   ]
  },
  {
   "cell_type": "code",
   "execution_count": 51,
   "metadata": {},
   "outputs": [],
   "source": [
    "#! pip install statsmodels"
   ]
  },
  {
   "cell_type": "code",
   "execution_count": 1,
   "metadata": {},
   "outputs": [],
   "source": [
    "#Importing the required libraries\n",
    "import pandas as pd\n",
    "import numpy as np\n",
    "from sklearn import preprocessing\n",
    "import matplotlib.pyplot as plt\n",
    "from sklearn.model_selection import train_test_split\n",
    "import seaborn as sns"
   ]
  },
  {
   "cell_type": "code",
   "execution_count": 2,
   "metadata": {},
   "outputs": [
    {
     "name": "stdout",
     "output_type": "stream",
     "text": [
      "(41188, 21)\n",
      "['age', 'job', 'marital', 'education', 'default', 'housing', 'loan', 'contact', 'month', 'day_of_week', 'duration', 'campaign', 'pdays', 'previous', 'poutcome', 'emp_var_rate', 'cons_price_idx', 'cons_conf_idx', 'euribor3m', 'nr_employed', 'y']\n"
     ]
    }
   ],
   "source": [
    "#Reading the data\n",
    "data=pd.read_csv(\"banking.csv\",header=0)\n",
    "print(data.shape)\n",
    "print(list(data.columns))"
   ]
  },
  {
   "cell_type": "code",
   "execution_count": 3,
   "metadata": {},
   "outputs": [
    {
     "data": {
      "text/plain": [
       "age                 int64\n",
       "job                object\n",
       "marital            object\n",
       "education          object\n",
       "default            object\n",
       "housing            object\n",
       "loan               object\n",
       "contact            object\n",
       "month              object\n",
       "day_of_week        object\n",
       "duration            int64\n",
       "campaign            int64\n",
       "pdays               int64\n",
       "previous            int64\n",
       "poutcome           object\n",
       "emp_var_rate      float64\n",
       "cons_price_idx    float64\n",
       "cons_conf_idx     float64\n",
       "euribor3m         float64\n",
       "nr_employed       float64\n",
       "y                   int64\n",
       "dtype: object"
      ]
     },
     "execution_count": 3,
     "metadata": {},
     "output_type": "execute_result"
    }
   ],
   "source": [
    "#Identifying the data types\n",
    "data.dtypes"
   ]
  },
  {
   "cell_type": "code",
   "execution_count": 6,
   "metadata": {
    "collapsed": true
   },
   "outputs": [
    {
     "data": {
      "text/plain": [
       "age               0\n",
       "job               0\n",
       "marital           0\n",
       "education         0\n",
       "default           0\n",
       "housing           0\n",
       "loan              0\n",
       "contact           0\n",
       "month             0\n",
       "day_of_week       0\n",
       "duration          0\n",
       "campaign          0\n",
       "pdays             0\n",
       "previous          0\n",
       "poutcome          0\n",
       "emp_var_rate      0\n",
       "cons_price_idx    0\n",
       "cons_conf_idx     0\n",
       "euribor3m         0\n",
       "nr_employed       0\n",
       "y                 0\n",
       "dtype: int64"
      ]
     },
     "execution_count": 6,
     "metadata": {},
     "output_type": "execute_result"
    }
   ],
   "source": [
    "#Checking for missing values\n",
    "data.isnull().sum()"
   ]
  },
  {
   "cell_type": "markdown",
   "metadata": {},
   "source": [
    "# We will use K-means Clustering technique to create a column inorder to identify the clusters"
   ]
  },
  {
   "cell_type": "code",
   "execution_count": 4,
   "metadata": {},
   "outputs": [],
   "source": [
    "data_clust = data.loc[:,['age','duration','campaign','pdays','previous']]"
   ]
  },
  {
   "cell_type": "code",
   "execution_count": 7,
   "metadata": {},
   "outputs": [],
   "source": [
    "#Importing the K-Means class\n",
    "from sklearn.cluster import KMeans\n",
    "\n",
    "wcss = []\n",
    "#We will fit the kmeans algorithm to our data and then find the wcss for each number of clusters and \n",
    "#append it to the wcss list declared above\n",
    "for i in range(1,11):\n",
    "    kmeans = KMeans(n_clusters=i,init = 'k-means++',max_iter=300,n_init = 10,random_state=0)\n",
    "    # the purpose of max_iter : Each time you click update centroids, a new iteration is performed. \n",
    "    #It makes sense, because when centroids are moved, distances to those centroids also change and some\n",
    "    #points may change cluster.\n",
    "    #n_init : the number of times k means algorithm will run with different initial centroids(default is 10)\n",
    "    kmeans.fit(data_clust)\n",
    "    wcss.append(kmeans.inertia_) \n",
    "#We will then use the elbow method to determine the number of clusters    "
   ]
  },
  {
   "cell_type": "code",
   "execution_count": 8,
   "metadata": {},
   "outputs": [
    {
     "data": {
      "image/png": "[encoded data removed]",
      "text/plain": [
       "<Figure size 432x288 with 1 Axes>"
      ]
     },
     "metadata": {
      "needs_background": "light"
     },
     "output_type": "display_data"
    }
   ],
   "source": [
    "plt.plot(range(1,11),wcss)\n",
    "plt.title('The elbow method')\n",
    "plt.xlabel('Number of clusters')\n",
    "plt.ylabel('WCSS or Inertia')\n",
    "plt.show()"
   ]
  },
  {
   "cell_type": "code",
   "execution_count": 9,
   "metadata": {},
   "outputs": [],
   "source": [
    "#the optimal number of clusters seems to be 3\n",
    "kmeans = KMeans(n_clusters=3,init = 'k-means++',max_iter=300,n_init = 10,random_state=0)\n",
    "y_kmeans = kmeans.fit_predict(data_clust)"
   ]
  },
  {
   "cell_type": "code",
   "execution_count": 10,
   "metadata": {},
   "outputs": [],
   "source": [
    "y_kmeans = pd.DataFrame(y_kmeans,columns=['Cluster'],copy=True)"
   ]
  },
  {
   "cell_type": "code",
   "execution_count": 11,
   "metadata": {
    "collapsed": true
   },
   "outputs": [
    {
     "data": {
      "text/plain": [
       "0        0\n",
       "1        0\n",
       "2        2\n",
       "3        0\n",
       "4        2\n",
       "5        0\n",
       "6        0\n",
       "7        0\n",
       "8        2\n",
       "9        0\n",
       "10       0\n",
       "11       1\n",
       "12       0\n",
       "13       0\n",
       "14       1\n",
       "15       0\n",
       "16       1\n",
       "17       1\n",
       "18       0\n",
       "19       0\n",
       "20       0\n",
       "21       1\n",
       "22       0\n",
       "23       0\n",
       "24       0\n",
       "25       0\n",
       "26       0\n",
       "27       2\n",
       "28       1\n",
       "29       0\n",
       "        ..\n",
       "41158    0\n",
       "41159    0\n",
       "41160    0\n",
       "41161    0\n",
       "41162    1\n",
       "41163    0\n",
       "41164    0\n",
       "41165    0\n",
       "41166    0\n",
       "41167    0\n",
       "41168    0\n",
       "41169    1\n",
       "41170    0\n",
       "41171    1\n",
       "41172    1\n",
       "41173    0\n",
       "41174    0\n",
       "41175    0\n",
       "41176    0\n",
       "41177    0\n",
       "41178    0\n",
       "41179    0\n",
       "41180    0\n",
       "41181    0\n",
       "41182    0\n",
       "41183    0\n",
       "41184    0\n",
       "41185    0\n",
       "41186    0\n",
       "41187    0\n",
       "Name: Cluster, Length: 41188, dtype: int32"
      ]
     },
     "execution_count": 11,
     "metadata": {},
     "output_type": "execute_result"
    }
   ],
   "source": [
    "#merging the cluster column with the rest of the data\n",
    "df_test = pd.merge(data, y_kmeans, left_index=True, right_index=True)\n",
    "df_test['Cluster'].astype(int)"
   ]
  },
  {
   "cell_type": "markdown",
   "metadata": {},
   "source": [
    "# Reducing the categories of education column and combining them into one category 'Basic'"
   ]
  },
  {
   "cell_type": "code",
   "execution_count": 12,
   "metadata": {},
   "outputs": [
    {
     "data": {
      "text/plain": [
       "['basic.4y',\n",
       " 'unknown',\n",
       " 'university.degree',\n",
       " 'high.school',\n",
       " 'basic.9y',\n",
       " 'professional.course',\n",
       " 'basic.6y',\n",
       " 'illiterate']"
      ]
     },
     "execution_count": 12,
     "metadata": {},
     "output_type": "execute_result"
    }
   ],
   "source": [
    "#Checking the unique values of education column\n",
    "list(df_test['education'].unique())"
   ]
  },
  {
   "cell_type": "code",
   "execution_count": 13,
   "metadata": {},
   "outputs": [
    {
     "data": {
      "text/plain": [
       "['Basic',\n",
       " 'unknown',\n",
       " 'university.degree',\n",
       " 'high.school',\n",
       " 'professional.course',\n",
       " 'illiterate']"
      ]
     },
     "execution_count": 13,
     "metadata": {},
     "output_type": "execute_result"
    }
   ],
   "source": [
    "#Grouping “basic.4y”, “basic.9y” and “basic.6y” together as “basic”.\n",
    "\n",
    "df_test['education']=np.where(df_test['education']=='basic.9y','Basic',df_test['education'])\n",
    "df_test['education']=np.where(df_test['education'] =='basic.6y', 'Basic', df_test['education'])\n",
    "df_test['education']=np.where(df_test['education'] =='basic.4y', 'Basic', df_test['education'])\n",
    "\n",
    "#After grouping, this is the column:\n",
    "list(df_test['education'].unique())"
   ]
  },
  {
   "cell_type": "markdown",
   "metadata": {},
   "source": [
    "# Data exploration"
   ]
  },
  {
   "cell_type": "code",
   "execution_count": 14,
   "metadata": {},
   "outputs": [
    {
     "data": {
      "text/plain": [
       "0    36548\n",
       "1     4640\n",
       "Name: y, dtype: int64"
      ]
     },
     "execution_count": 14,
     "metadata": {},
     "output_type": "execute_result"
    }
   ],
   "source": [
    "df_test['y'].value_counts()"
   ]
  },
  {
   "cell_type": "code",
   "execution_count": 15,
   "metadata": {},
   "outputs": [
    {
     "data": {
      "image/png": "[encoded data removed]",
      "text/plain": [
       "<Figure size 432x288 with 1 Axes>"
      ]
     },
     "metadata": {
      "needs_background": "light"
     },
     "output_type": "display_data"
    }
   ],
   "source": [
    "sns.countplot(x='y',data=df_test)\n",
    "plt.show()"
   ]
  },
  {
   "cell_type": "code",
   "execution_count": 16,
   "metadata": {},
   "outputs": [
    {
     "name": "stdout",
     "output_type": "stream",
     "text": [
      "Percentage of people who have not subscribed is:  88.73458288821988\n",
      "Percentage of people who have subscribed is:  11.265417111780131\n"
     ]
    }
   ],
   "source": [
    "#calculating the proportion of 0 and 1 in the target column\n",
    "count_no_sub=len(df_test[df_test['y']==0])\n",
    "count_sub=len(df_test[df_test['y']==1])\n",
    "pct_no_sub=count_no_sub/(count_no_sub+count_sub)\n",
    "print(\"Percentage of people who have not subscribed is: \",pct_no_sub * 100)\n",
    "pct_sub= count_sub/(count_no_sub+count_sub)\n",
    "print(\"Percentage of people who have subscribed is: \",pct_sub * 100)"
   ]
  },
  {
   "cell_type": "markdown",
   "metadata": {},
   "source": [
    "# Classes are imbalanced, and the ratio of no-subscription to subscription instances is 89:11. "
   ]
  },
  {
   "cell_type": "code",
   "execution_count": 66,
   "metadata": {},
   "outputs": [],
   "source": [
    "#Some more data exploration"
   ]
  },
  {
   "cell_type": "code",
   "execution_count": 17,
   "metadata": {},
   "outputs": [
    {
     "data": {
      "text/html": [
       "<div>\n",
       "<style scoped>\n",
       "    .dataframe tbody tr th:only-of-type {\n",
       "        vertical-align: middle;\n",
       "    }\n",
       "\n",
       "    .dataframe tbody tr th {\n",
       "        vertical-align: top;\n",
       "    }\n",
       "\n",
       "    .dataframe thead th {\n",
       "        text-align: right;\n",
       "    }\n",
       "</style>\n",
       "<table border=\"1\" class=\"dataframe\">\n",
       "  <thead>\n",
       "    <tr style=\"text-align: right;\">\n",
       "      <th></th>\n",
       "      <th>age</th>\n",
       "      <th>duration</th>\n",
       "      <th>campaign</th>\n",
       "      <th>pdays</th>\n",
       "      <th>previous</th>\n",
       "      <th>emp_var_rate</th>\n",
       "      <th>cons_price_idx</th>\n",
       "      <th>cons_conf_idx</th>\n",
       "      <th>euribor3m</th>\n",
       "      <th>nr_employed</th>\n",
       "      <th>Cluster</th>\n",
       "    </tr>\n",
       "    <tr>\n",
       "      <th>y</th>\n",
       "      <th></th>\n",
       "      <th></th>\n",
       "      <th></th>\n",
       "      <th></th>\n",
       "      <th></th>\n",
       "      <th></th>\n",
       "      <th></th>\n",
       "      <th></th>\n",
       "      <th></th>\n",
       "      <th></th>\n",
       "      <th></th>\n",
       "    </tr>\n",
       "  </thead>\n",
       "  <tbody>\n",
       "    <tr>\n",
       "      <th>0</th>\n",
       "      <td>39.911185</td>\n",
       "      <td>220.844807</td>\n",
       "      <td>2.633085</td>\n",
       "      <td>984.113878</td>\n",
       "      <td>0.132374</td>\n",
       "      <td>0.248875</td>\n",
       "      <td>93.603757</td>\n",
       "      <td>-40.593097</td>\n",
       "      <td>3.811491</td>\n",
       "      <td>5176.166600</td>\n",
       "      <td>0.108132</td>\n",
       "    </tr>\n",
       "    <tr>\n",
       "      <th>1</th>\n",
       "      <td>40.913147</td>\n",
       "      <td>553.191164</td>\n",
       "      <td>2.051724</td>\n",
       "      <td>792.035560</td>\n",
       "      <td>0.492672</td>\n",
       "      <td>-1.233448</td>\n",
       "      <td>93.354386</td>\n",
       "      <td>-39.789784</td>\n",
       "      <td>2.123135</td>\n",
       "      <td>5095.115991</td>\n",
       "      <td>0.829741</td>\n",
       "    </tr>\n",
       "  </tbody>\n",
       "</table>\n",
       "</div>"
      ],
      "text/plain": [
       "         age    duration  campaign       pdays  previous  emp_var_rate  \\\n",
       "y                                                                        \n",
       "0  39.911185  220.844807  2.633085  984.113878  0.132374      0.248875   \n",
       "1  40.913147  553.191164  2.051724  792.035560  0.492672     -1.233448   \n",
       "\n",
       "   cons_price_idx  cons_conf_idx  euribor3m  nr_employed   Cluster  \n",
       "y                                                                   \n",
       "0       93.603757     -40.593097   3.811491  5176.166600  0.108132  \n",
       "1       93.354386     -39.789784   2.123135  5095.115991  0.829741  "
      ]
     },
     "execution_count": 17,
     "metadata": {},
     "output_type": "execute_result"
    }
   ],
   "source": [
    "df_test.groupby('y').mean()"
   ]
  },
  {
   "cell_type": "markdown",
   "metadata": {},
   "source": [
    "# Observations:\n",
    "\n",
    "The average age of customers who bought the term deposit is higher than that of the customers who didn’t.\n",
    "The pdays (days since the customer was last contacted) is understandably lower for the customers who bought it. The lower the pdays, the better the memory of the last call and hence the better chances of a sale.\n",
    "Surprisingly, campaigns (number of contacts or calls made during the current campaign) are lower for customers who bought the term deposit."
   ]
  },
  {
   "cell_type": "code",
   "execution_count": 18,
   "metadata": {},
   "outputs": [
    {
     "data": {
      "text/html": [
       "<div>\n",
       "<style scoped>\n",
       "    .dataframe tbody tr th:only-of-type {\n",
       "        vertical-align: middle;\n",
       "    }\n",
       "\n",
       "    .dataframe tbody tr th {\n",
       "        vertical-align: top;\n",
       "    }\n",
       "\n",
       "    .dataframe thead th {\n",
       "        text-align: right;\n",
       "    }\n",
       "</style>\n",
       "<table border=\"1\" class=\"dataframe\">\n",
       "  <thead>\n",
       "    <tr style=\"text-align: right;\">\n",
       "      <th></th>\n",
       "      <th>age</th>\n",
       "      <th>duration</th>\n",
       "      <th>campaign</th>\n",
       "      <th>pdays</th>\n",
       "      <th>previous</th>\n",
       "      <th>emp_var_rate</th>\n",
       "      <th>cons_price_idx</th>\n",
       "      <th>cons_conf_idx</th>\n",
       "      <th>euribor3m</th>\n",
       "      <th>nr_employed</th>\n",
       "      <th>y</th>\n",
       "      <th>Cluster</th>\n",
       "    </tr>\n",
       "    <tr>\n",
       "      <th>job</th>\n",
       "      <th></th>\n",
       "      <th></th>\n",
       "      <th></th>\n",
       "      <th></th>\n",
       "      <th></th>\n",
       "      <th></th>\n",
       "      <th></th>\n",
       "      <th></th>\n",
       "      <th></th>\n",
       "      <th></th>\n",
       "      <th></th>\n",
       "      <th></th>\n",
       "    </tr>\n",
       "  </thead>\n",
       "  <tbody>\n",
       "    <tr>\n",
       "      <th>admin.</th>\n",
       "      <td>38.187296</td>\n",
       "      <td>254.312128</td>\n",
       "      <td>2.623489</td>\n",
       "      <td>954.319229</td>\n",
       "      <td>0.189023</td>\n",
       "      <td>0.015563</td>\n",
       "      <td>93.534054</td>\n",
       "      <td>-40.245433</td>\n",
       "      <td>3.550274</td>\n",
       "      <td>5164.125350</td>\n",
       "      <td>0.129726</td>\n",
       "      <td>0.200537</td>\n",
       "    </tr>\n",
       "    <tr>\n",
       "      <th>blue-collar</th>\n",
       "      <td>39.555760</td>\n",
       "      <td>264.542360</td>\n",
       "      <td>2.558461</td>\n",
       "      <td>985.160363</td>\n",
       "      <td>0.122542</td>\n",
       "      <td>0.248995</td>\n",
       "      <td>93.656656</td>\n",
       "      <td>-41.375816</td>\n",
       "      <td>3.771996</td>\n",
       "      <td>5175.615150</td>\n",
       "      <td>0.068943</td>\n",
       "      <td>0.150638</td>\n",
       "    </tr>\n",
       "    <tr>\n",
       "      <th>entrepreneur</th>\n",
       "      <td>41.723214</td>\n",
       "      <td>263.267857</td>\n",
       "      <td>2.535714</td>\n",
       "      <td>981.267170</td>\n",
       "      <td>0.138736</td>\n",
       "      <td>0.158723</td>\n",
       "      <td>93.605372</td>\n",
       "      <td>-41.283654</td>\n",
       "      <td>3.791120</td>\n",
       "      <td>5176.313530</td>\n",
       "      <td>0.085165</td>\n",
       "      <td>0.165522</td>\n",
       "    </tr>\n",
       "    <tr>\n",
       "      <th>housemaid</th>\n",
       "      <td>45.500000</td>\n",
       "      <td>250.454717</td>\n",
       "      <td>2.639623</td>\n",
       "      <td>960.579245</td>\n",
       "      <td>0.137736</td>\n",
       "      <td>0.433396</td>\n",
       "      <td>93.676576</td>\n",
       "      <td>-39.495283</td>\n",
       "      <td>4.009645</td>\n",
       "      <td>5179.529623</td>\n",
       "      <td>0.100000</td>\n",
       "      <td>0.176415</td>\n",
       "    </tr>\n",
       "    <tr>\n",
       "      <th>management</th>\n",
       "      <td>42.362859</td>\n",
       "      <td>257.058140</td>\n",
       "      <td>2.476060</td>\n",
       "      <td>962.647059</td>\n",
       "      <td>0.185021</td>\n",
       "      <td>-0.012688</td>\n",
       "      <td>93.522755</td>\n",
       "      <td>-40.489466</td>\n",
       "      <td>3.611316</td>\n",
       "      <td>5166.650513</td>\n",
       "      <td>0.112175</td>\n",
       "      <td>0.187073</td>\n",
       "    </tr>\n",
       "    <tr>\n",
       "      <th>retired</th>\n",
       "      <td>62.027326</td>\n",
       "      <td>273.712209</td>\n",
       "      <td>2.476744</td>\n",
       "      <td>897.936047</td>\n",
       "      <td>0.327326</td>\n",
       "      <td>-0.698314</td>\n",
       "      <td>93.430786</td>\n",
       "      <td>-38.573081</td>\n",
       "      <td>2.770066</td>\n",
       "      <td>5122.262151</td>\n",
       "      <td>0.252326</td>\n",
       "      <td>0.329651</td>\n",
       "    </tr>\n",
       "    <tr>\n",
       "      <th>self-employed</th>\n",
       "      <td>39.949331</td>\n",
       "      <td>264.142153</td>\n",
       "      <td>2.660802</td>\n",
       "      <td>976.621393</td>\n",
       "      <td>0.143561</td>\n",
       "      <td>0.094159</td>\n",
       "      <td>93.559982</td>\n",
       "      <td>-40.488107</td>\n",
       "      <td>3.689376</td>\n",
       "      <td>5170.674384</td>\n",
       "      <td>0.104856</td>\n",
       "      <td>0.168895</td>\n",
       "    </tr>\n",
       "    <tr>\n",
       "      <th>services</th>\n",
       "      <td>37.926430</td>\n",
       "      <td>258.398085</td>\n",
       "      <td>2.587805</td>\n",
       "      <td>979.974049</td>\n",
       "      <td>0.154951</td>\n",
       "      <td>0.175359</td>\n",
       "      <td>93.634659</td>\n",
       "      <td>-41.290048</td>\n",
       "      <td>3.699187</td>\n",
       "      <td>5171.600126</td>\n",
       "      <td>0.081381</td>\n",
       "      <td>0.159486</td>\n",
       "    </tr>\n",
       "    <tr>\n",
       "      <th>student</th>\n",
       "      <td>25.894857</td>\n",
       "      <td>283.683429</td>\n",
       "      <td>2.104000</td>\n",
       "      <td>840.217143</td>\n",
       "      <td>0.524571</td>\n",
       "      <td>-1.408000</td>\n",
       "      <td>93.331613</td>\n",
       "      <td>-40.187543</td>\n",
       "      <td>1.884224</td>\n",
       "      <td>5085.939086</td>\n",
       "      <td>0.314286</td>\n",
       "      <td>0.440000</td>\n",
       "    </tr>\n",
       "    <tr>\n",
       "      <th>technician</th>\n",
       "      <td>38.507638</td>\n",
       "      <td>250.232241</td>\n",
       "      <td>2.577339</td>\n",
       "      <td>964.408127</td>\n",
       "      <td>0.153789</td>\n",
       "      <td>0.274566</td>\n",
       "      <td>93.561471</td>\n",
       "      <td>-39.927569</td>\n",
       "      <td>3.820401</td>\n",
       "      <td>5175.648391</td>\n",
       "      <td>0.108260</td>\n",
       "      <td>0.180039</td>\n",
       "    </tr>\n",
       "    <tr>\n",
       "      <th>unemployed</th>\n",
       "      <td>39.733728</td>\n",
       "      <td>249.451677</td>\n",
       "      <td>2.564103</td>\n",
       "      <td>935.316568</td>\n",
       "      <td>0.199211</td>\n",
       "      <td>-0.111736</td>\n",
       "      <td>93.563781</td>\n",
       "      <td>-40.007594</td>\n",
       "      <td>3.466583</td>\n",
       "      <td>5157.156509</td>\n",
       "      <td>0.142012</td>\n",
       "      <td>0.230769</td>\n",
       "    </tr>\n",
       "    <tr>\n",
       "      <th>unknown</th>\n",
       "      <td>45.563636</td>\n",
       "      <td>239.675758</td>\n",
       "      <td>2.648485</td>\n",
       "      <td>938.727273</td>\n",
       "      <td>0.154545</td>\n",
       "      <td>0.357879</td>\n",
       "      <td>93.718942</td>\n",
       "      <td>-38.797879</td>\n",
       "      <td>3.949033</td>\n",
       "      <td>5172.931818</td>\n",
       "      <td>0.112121</td>\n",
       "      <td>0.212121</td>\n",
       "    </tr>\n",
       "  </tbody>\n",
       "</table>\n",
       "</div>"
      ],
      "text/plain": [
       "                     age    duration  campaign       pdays  previous  \\\n",
       "job                                                                    \n",
       "admin.         38.187296  254.312128  2.623489  954.319229  0.189023   \n",
       "blue-collar    39.555760  264.542360  2.558461  985.160363  0.122542   \n",
       "entrepreneur   41.723214  263.267857  2.535714  981.267170  0.138736   \n",
       "housemaid      45.500000  250.454717  2.639623  960.579245  0.137736   \n",
       "management     42.362859  257.058140  2.476060  962.647059  0.185021   \n",
       "retired        62.027326  273.712209  2.476744  897.936047  0.327326   \n",
       "self-employed  39.949331  264.142153  2.660802  976.621393  0.143561   \n",
       "services       37.926430  258.398085  2.587805  979.974049  0.154951   \n",
       "student        25.894857  283.683429  2.104000  840.217143  0.524571   \n",
       "technician     38.507638  250.232241  2.577339  964.408127  0.153789   \n",
       "unemployed     39.733728  249.451677  2.564103  935.316568  0.199211   \n",
       "unknown        45.563636  239.675758  2.648485  938.727273  0.154545   \n",
       "\n",
       "               emp_var_rate  cons_price_idx  cons_conf_idx  euribor3m  \\\n",
       "job                                                                     \n",
       "admin.             0.015563       93.534054     -40.245433   3.550274   \n",
       "blue-collar        0.248995       93.656656     -41.375816   3.771996   \n",
       "entrepreneur       0.158723       93.605372     -41.283654   3.791120   \n",
       "housemaid          0.433396       93.676576     -39.495283   4.009645   \n",
       "management        -0.012688       93.522755     -40.489466   3.611316   \n",
       "retired           -0.698314       93.430786     -38.573081   2.770066   \n",
       "self-employed      0.094159       93.559982     -40.488107   3.689376   \n",
       "services           0.175359       93.634659     -41.290048   3.699187   \n",
       "student           -1.408000       93.331613     -40.187543   1.884224   \n",
       "technician         0.274566       93.561471     -39.927569   3.820401   \n",
       "unemployed        -0.111736       93.563781     -40.007594   3.466583   \n",
       "unknown            0.357879       93.718942     -38.797879   3.949033   \n",
       "\n",
       "               nr_employed         y   Cluster  \n",
       "job                                             \n",
       "admin.         5164.125350  0.129726  0.200537  \n",
       "blue-collar    5175.615150  0.068943  0.150638  \n",
       "entrepreneur   5176.313530  0.085165  0.165522  \n",
       "housemaid      5179.529623  0.100000  0.176415  \n",
       "management     5166.650513  0.112175  0.187073  \n",
       "retired        5122.262151  0.252326  0.329651  \n",
       "self-employed  5170.674384  0.104856  0.168895  \n",
       "services       5171.600126  0.081381  0.159486  \n",
       "student        5085.939086  0.314286  0.440000  \n",
       "technician     5175.648391  0.108260  0.180039  \n",
       "unemployed     5157.156509  0.142012  0.230769  \n",
       "unknown        5172.931818  0.112121  0.212121  "
      ]
     },
     "execution_count": 18,
     "metadata": {},
     "output_type": "execute_result"
    }
   ],
   "source": [
    "df_test.groupby('job').mean()"
   ]
  },
  {
   "cell_type": "code",
   "execution_count": 19,
   "metadata": {},
   "outputs": [
    {
     "data": {
      "text/html": [
       "<div>\n",
       "<style scoped>\n",
       "    .dataframe tbody tr th:only-of-type {\n",
       "        vertical-align: middle;\n",
       "    }\n",
       "\n",
       "    .dataframe tbody tr th {\n",
       "        vertical-align: top;\n",
       "    }\n",
       "\n",
       "    .dataframe thead th {\n",
       "        text-align: right;\n",
       "    }\n",
       "</style>\n",
       "<table border=\"1\" class=\"dataframe\">\n",
       "  <thead>\n",
       "    <tr style=\"text-align: right;\">\n",
       "      <th></th>\n",
       "      <th>age</th>\n",
       "      <th>duration</th>\n",
       "      <th>campaign</th>\n",
       "      <th>pdays</th>\n",
       "      <th>previous</th>\n",
       "      <th>emp_var_rate</th>\n",
       "      <th>cons_price_idx</th>\n",
       "      <th>cons_conf_idx</th>\n",
       "      <th>euribor3m</th>\n",
       "      <th>nr_employed</th>\n",
       "      <th>y</th>\n",
       "      <th>Cluster</th>\n",
       "    </tr>\n",
       "    <tr>\n",
       "      <th>marital</th>\n",
       "      <th></th>\n",
       "      <th></th>\n",
       "      <th></th>\n",
       "      <th></th>\n",
       "      <th></th>\n",
       "      <th></th>\n",
       "      <th></th>\n",
       "      <th></th>\n",
       "      <th></th>\n",
       "      <th></th>\n",
       "      <th></th>\n",
       "      <th></th>\n",
       "    </tr>\n",
       "  </thead>\n",
       "  <tbody>\n",
       "    <tr>\n",
       "      <th>divorced</th>\n",
       "      <td>44.899393</td>\n",
       "      <td>253.790330</td>\n",
       "      <td>2.61340</td>\n",
       "      <td>968.639853</td>\n",
       "      <td>0.168690</td>\n",
       "      <td>0.163985</td>\n",
       "      <td>93.606563</td>\n",
       "      <td>-40.707069</td>\n",
       "      <td>3.715603</td>\n",
       "      <td>5170.878643</td>\n",
       "      <td>0.103209</td>\n",
       "      <td>0.172376</td>\n",
       "    </tr>\n",
       "    <tr>\n",
       "      <th>married</th>\n",
       "      <td>42.307165</td>\n",
       "      <td>257.438623</td>\n",
       "      <td>2.57281</td>\n",
       "      <td>967.247673</td>\n",
       "      <td>0.155608</td>\n",
       "      <td>0.183625</td>\n",
       "      <td>93.597367</td>\n",
       "      <td>-40.270659</td>\n",
       "      <td>3.745832</td>\n",
       "      <td>5171.848772</td>\n",
       "      <td>0.101573</td>\n",
       "      <td>0.179677</td>\n",
       "    </tr>\n",
       "    <tr>\n",
       "      <th>single</th>\n",
       "      <td>33.158714</td>\n",
       "      <td>261.524378</td>\n",
       "      <td>2.53380</td>\n",
       "      <td>949.909578</td>\n",
       "      <td>0.211359</td>\n",
       "      <td>-0.167989</td>\n",
       "      <td>93.517300</td>\n",
       "      <td>-40.918698</td>\n",
       "      <td>3.317447</td>\n",
       "      <td>5155.199265</td>\n",
       "      <td>0.140041</td>\n",
       "      <td>0.216200</td>\n",
       "    </tr>\n",
       "    <tr>\n",
       "      <th>unknown</th>\n",
       "      <td>40.275000</td>\n",
       "      <td>312.725000</td>\n",
       "      <td>3.18750</td>\n",
       "      <td>937.100000</td>\n",
       "      <td>0.275000</td>\n",
       "      <td>-0.221250</td>\n",
       "      <td>93.471250</td>\n",
       "      <td>-40.820000</td>\n",
       "      <td>3.313038</td>\n",
       "      <td>5157.393750</td>\n",
       "      <td>0.150000</td>\n",
       "      <td>0.337500</td>\n",
       "    </tr>\n",
       "  </tbody>\n",
       "</table>\n",
       "</div>"
      ],
      "text/plain": [
       "                age    duration  campaign       pdays  previous  emp_var_rate  \\\n",
       "marital                                                                         \n",
       "divorced  44.899393  253.790330   2.61340  968.639853  0.168690      0.163985   \n",
       "married   42.307165  257.438623   2.57281  967.247673  0.155608      0.183625   \n",
       "single    33.158714  261.524378   2.53380  949.909578  0.211359     -0.167989   \n",
       "unknown   40.275000  312.725000   3.18750  937.100000  0.275000     -0.221250   \n",
       "\n",
       "          cons_price_idx  cons_conf_idx  euribor3m  nr_employed         y  \\\n",
       "marital                                                                     \n",
       "divorced       93.606563     -40.707069   3.715603  5170.878643  0.103209   \n",
       "married        93.597367     -40.270659   3.745832  5171.848772  0.101573   \n",
       "single         93.517300     -40.918698   3.317447  5155.199265  0.140041   \n",
       "unknown        93.471250     -40.820000   3.313038  5157.393750  0.150000   \n",
       "\n",
       "           Cluster  \n",
       "marital             \n",
       "divorced  0.172376  \n",
       "married   0.179677  \n",
       "single    0.216200  \n",
       "unknown   0.337500  "
      ]
     },
     "execution_count": 19,
     "metadata": {},
     "output_type": "execute_result"
    }
   ],
   "source": [
    "df_test.groupby('marital').mean()"
   ]
  },
  {
   "cell_type": "code",
   "execution_count": 20,
   "metadata": {},
   "outputs": [
    {
     "data": {
      "text/html": [
       "<div>\n",
       "<style scoped>\n",
       "    .dataframe tbody tr th:only-of-type {\n",
       "        vertical-align: middle;\n",
       "    }\n",
       "\n",
       "    .dataframe tbody tr th {\n",
       "        vertical-align: top;\n",
       "    }\n",
       "\n",
       "    .dataframe thead th {\n",
       "        text-align: right;\n",
       "    }\n",
       "</style>\n",
       "<table border=\"1\" class=\"dataframe\">\n",
       "  <thead>\n",
       "    <tr style=\"text-align: right;\">\n",
       "      <th></th>\n",
       "      <th>age</th>\n",
       "      <th>duration</th>\n",
       "      <th>campaign</th>\n",
       "      <th>pdays</th>\n",
       "      <th>previous</th>\n",
       "      <th>emp_var_rate</th>\n",
       "      <th>cons_price_idx</th>\n",
       "      <th>cons_conf_idx</th>\n",
       "      <th>euribor3m</th>\n",
       "      <th>nr_employed</th>\n",
       "      <th>y</th>\n",
       "      <th>Cluster</th>\n",
       "    </tr>\n",
       "    <tr>\n",
       "      <th>education</th>\n",
       "      <th></th>\n",
       "      <th></th>\n",
       "      <th></th>\n",
       "      <th></th>\n",
       "      <th></th>\n",
       "      <th></th>\n",
       "      <th></th>\n",
       "      <th></th>\n",
       "      <th></th>\n",
       "      <th></th>\n",
       "      <th></th>\n",
       "      <th></th>\n",
       "    </tr>\n",
       "  </thead>\n",
       "  <tbody>\n",
       "    <tr>\n",
       "      <th>Basic</th>\n",
       "      <td>42.163910</td>\n",
       "      <td>263.043874</td>\n",
       "      <td>2.559498</td>\n",
       "      <td>974.877967</td>\n",
       "      <td>0.141053</td>\n",
       "      <td>0.191329</td>\n",
       "      <td>93.639933</td>\n",
       "      <td>-40.927595</td>\n",
       "      <td>3.729654</td>\n",
       "      <td>5172.014113</td>\n",
       "      <td>0.087029</td>\n",
       "      <td>0.170063</td>\n",
       "    </tr>\n",
       "    <tr>\n",
       "      <th>high.school</th>\n",
       "      <td>37.998213</td>\n",
       "      <td>260.886810</td>\n",
       "      <td>2.568576</td>\n",
       "      <td>964.358382</td>\n",
       "      <td>0.185917</td>\n",
       "      <td>0.032937</td>\n",
       "      <td>93.584857</td>\n",
       "      <td>-40.940641</td>\n",
       "      <td>3.556157</td>\n",
       "      <td>5164.994735</td>\n",
       "      <td>0.108355</td>\n",
       "      <td>0.188439</td>\n",
       "    </tr>\n",
       "    <tr>\n",
       "      <th>illiterate</th>\n",
       "      <td>48.500000</td>\n",
       "      <td>276.777778</td>\n",
       "      <td>2.277778</td>\n",
       "      <td>943.833333</td>\n",
       "      <td>0.111111</td>\n",
       "      <td>-0.133333</td>\n",
       "      <td>93.317333</td>\n",
       "      <td>-39.950000</td>\n",
       "      <td>3.516556</td>\n",
       "      <td>5171.777778</td>\n",
       "      <td>0.222222</td>\n",
       "      <td>0.222222</td>\n",
       "    </tr>\n",
       "    <tr>\n",
       "      <th>professional.course</th>\n",
       "      <td>40.080107</td>\n",
       "      <td>252.533855</td>\n",
       "      <td>2.586115</td>\n",
       "      <td>960.765974</td>\n",
       "      <td>0.163075</td>\n",
       "      <td>0.173012</td>\n",
       "      <td>93.569864</td>\n",
       "      <td>-40.124108</td>\n",
       "      <td>3.710457</td>\n",
       "      <td>5170.155979</td>\n",
       "      <td>0.113485</td>\n",
       "      <td>0.185390</td>\n",
       "    </tr>\n",
       "    <tr>\n",
       "      <th>university.degree</th>\n",
       "      <td>38.879191</td>\n",
       "      <td>253.223373</td>\n",
       "      <td>2.563527</td>\n",
       "      <td>951.807692</td>\n",
       "      <td>0.192390</td>\n",
       "      <td>-0.028090</td>\n",
       "      <td>93.493466</td>\n",
       "      <td>-39.975805</td>\n",
       "      <td>3.529663</td>\n",
       "      <td>5163.226298</td>\n",
       "      <td>0.137245</td>\n",
       "      <td>0.206114</td>\n",
       "    </tr>\n",
       "    <tr>\n",
       "      <th>unknown</th>\n",
       "      <td>43.481225</td>\n",
       "      <td>262.390526</td>\n",
       "      <td>2.596187</td>\n",
       "      <td>942.830734</td>\n",
       "      <td>0.226459</td>\n",
       "      <td>0.059099</td>\n",
       "      <td>93.658615</td>\n",
       "      <td>-39.877816</td>\n",
       "      <td>3.571098</td>\n",
       "      <td>5159.549509</td>\n",
       "      <td>0.145003</td>\n",
       "      <td>0.229347</td>\n",
       "    </tr>\n",
       "  </tbody>\n",
       "</table>\n",
       "</div>"
      ],
      "text/plain": [
       "                           age    duration  campaign       pdays  previous  \\\n",
       "education                                                                    \n",
       "Basic                42.163910  263.043874  2.559498  974.877967  0.141053   \n",
       "high.school          37.998213  260.886810  2.568576  964.358382  0.185917   \n",
       "illiterate           48.500000  276.777778  2.277778  943.833333  0.111111   \n",
       "professional.course  40.080107  252.533855  2.586115  960.765974  0.163075   \n",
       "university.degree    38.879191  253.223373  2.563527  951.807692  0.192390   \n",
       "unknown              43.481225  262.390526  2.596187  942.830734  0.226459   \n",
       "\n",
       "                     emp_var_rate  cons_price_idx  cons_conf_idx  euribor3m  \\\n",
       "education                                                                     \n",
       "Basic                    0.191329       93.639933     -40.927595   3.729654   \n",
       "high.school              0.032937       93.584857     -40.940641   3.556157   \n",
       "illiterate              -0.133333       93.317333     -39.950000   3.516556   \n",
       "professional.course      0.173012       93.569864     -40.124108   3.710457   \n",
       "university.degree       -0.028090       93.493466     -39.975805   3.529663   \n",
       "unknown                  0.059099       93.658615     -39.877816   3.571098   \n",
       "\n",
       "                     nr_employed         y   Cluster  \n",
       "education                                             \n",
       "Basic                5172.014113  0.087029  0.170063  \n",
       "high.school          5164.994735  0.108355  0.188439  \n",
       "illiterate           5171.777778  0.222222  0.222222  \n",
       "professional.course  5170.155979  0.113485  0.185390  \n",
       "university.degree    5163.226298  0.137245  0.206114  \n",
       "unknown              5159.549509  0.145003  0.229347  "
      ]
     },
     "execution_count": 20,
     "metadata": {},
     "output_type": "execute_result"
    }
   ],
   "source": [
    "df_test.groupby('education').mean()"
   ]
  },
  {
   "cell_type": "markdown",
   "metadata": {},
   "source": [
    "# Visualizations"
   ]
  },
  {
   "cell_type": "code",
   "execution_count": 21,
   "metadata": {},
   "outputs": [
    {
     "data": {
      "image/png": "[encoded data removed]",
      "text/plain": [
       "<Figure size 432x288 with 1 Axes>"
      ]
     },
     "metadata": {
      "needs_background": "light"
     },
     "output_type": "display_data"
    }
   ],
   "source": [
    "%matplotlib inline\n",
    "pd.crosstab(df_test.job,df_test.y).plot(kind='bar')\n",
    "plt.title('Purchase Frequency for Job Title')\n",
    "plt.xlabel('Job')\n",
    "plt.ylabel('Frequency of Purchase')\n",
    "plt.savefig('purchase_fre_job')"
   ]
  },
  {
   "cell_type": "markdown",
   "metadata": {},
   "source": [
    "#The frequency of purchase of the deposit depends on the job title. Thus, the job title can be a good predictor of the outcome variable."
   ]
  },
  {
   "cell_type": "code",
   "execution_count": 22,
   "metadata": {},
   "outputs": [
    {
     "data": {
      "image/png": "[encoded data removed]",
      "text/plain": [
       "<Figure size 432x288 with 1 Axes>"
      ]
     },
     "metadata": {
      "needs_background": "light"
     },
     "output_type": "display_data"
    }
   ],
   "source": [
    "table=pd.crosstab(df_test.education,df_test.y)\n",
    "table.div(table.sum(1).astype(float),axis=0).plot(kind='bar',stacked=True)\n",
    "plt.title('Stacked bar chart of Education vs Purchase')\n",
    "plt.xlabel('Education')\n",
    "plt.ylabel('Proportion of customers')\n",
    "plt.savefig('edu_vs_pur_stack')"
   ]
  },
  {
   "cell_type": "markdown",
   "metadata": {},
   "source": [
    "#Education seems a good predictor of the outcome variable."
   ]
  },
  {
   "cell_type": "code",
   "execution_count": 23,
   "metadata": {},
   "outputs": [
    {
     "data": {
      "image/png": "[encoded data removed]",
      "text/plain": [
       "<Figure size 432x288 with 1 Axes>"
      ]
     },
     "metadata": {
      "needs_background": "light"
     },
     "output_type": "display_data"
    }
   ],
   "source": [
    "pd.crosstab(df_test.day_of_week,df_test.y).plot(kind='bar')\n",
    "plt.title('Purchase Frequency for Day of Week')\n",
    "plt.xlabel('Day of Week')\n",
    "plt.ylabel('Frequency of Purchase')\n",
    "plt.savefig('pur_dayofweek_bar')"
   ]
  },
  {
   "cell_type": "markdown",
   "metadata": {},
   "source": [
    "#Day of week may not be a good predictor of the outcome."
   ]
  },
  {
   "cell_type": "code",
   "execution_count": 24,
   "metadata": {},
   "outputs": [
    {
     "data": {
      "image/png": "[encoded data removed]",
      "text/plain": [
       "<Figure size 432x288 with 1 Axes>"
      ]
     },
     "metadata": {
      "needs_background": "light"
     },
     "output_type": "display_data"
    }
   ],
   "source": [
    "pd.crosstab(df_test.month,df_test.y).plot(kind='bar')\n",
    "plt.title('Purchase Frequency for Month')\n",
    "plt.xlabel('Month')\n",
    "plt.ylabel('Frequency of Purchase')\n",
    "plt.savefig('pur_fre_month_bar')"
   ]
  },
  {
   "cell_type": "markdown",
   "metadata": {},
   "source": [
    "#Month might be a good predictor of the outcome variable."
   ]
  },
  {
   "cell_type": "code",
   "execution_count": 25,
   "metadata": {},
   "outputs": [
    {
     "data": {
      "image/png": "[encoded data removed]",
      "text/plain": [
       "<Figure size 432x288 with 1 Axes>"
      ]
     },
     "metadata": {
      "needs_background": "light"
     },
     "output_type": "display_data"
    }
   ],
   "source": [
    "df_test.age.hist()\n",
    "plt.title('Histogram of Age')\n",
    "plt.xlabel('Age')\n",
    "plt.ylabel('Frequency')\n",
    "plt.savefig('hist_age')"
   ]
  },
  {
   "cell_type": "markdown",
   "metadata": {},
   "source": [
    "##Most of the customers of the bank in this dataset are in the age range of 30–40."
   ]
  },
  {
   "cell_type": "code",
   "execution_count": 26,
   "metadata": {},
   "outputs": [
    {
     "data": {
      "image/png": "[encoded data removed]",
      "text/plain": [
       "<Figure size 432x288 with 1 Axes>"
      ]
     },
     "metadata": {
      "needs_background": "light"
     },
     "output_type": "display_data"
    }
   ],
   "source": [
    "pd.crosstab(df_test.poutcome,df_test.y).plot(kind='bar')\n",
    "plt.title('Purchase Frequency for Poutcome')\n",
    "plt.xlabel('Poutcome')\n",
    "plt.ylabel('Frequency of Purchase')\n",
    "plt.savefig('pur_fre_pout_bar')"
   ]
  },
  {
   "cell_type": "code",
   "execution_count": 77,
   "metadata": {},
   "outputs": [],
   "source": [
    "# Poutcome seems to be a good predictor of the outcome variable."
   ]
  },
  {
   "cell_type": "markdown",
   "metadata": {},
   "source": [
    "# Creating dummy variables"
   ]
  },
  {
   "cell_type": "code",
   "execution_count": 27,
   "metadata": {},
   "outputs": [],
   "source": [
    "cat_vars = ['job','marital','education','default','housing','loan','contact','month','day_of_week','poutcome']\n",
    "df_dummies = pd.get_dummies(df_test, columns = cat_vars, drop_first =False)\n",
    "df_dummies.columns.values\n",
    "df = df_dummies"
   ]
  },
  {
   "cell_type": "markdown",
   "metadata": {},
   "source": [
    "# Handling the imbalanced data set . Applying the SMOTE technique\n",
    "** Note : Apply SMOTE only on train data,because by oversampling only on the training data, none of the information in the test data is being used to create synthetic observations, therefore, no information will bleed from test data into the model training."
   ]
  },
  {
   "cell_type": "code",
   "execution_count": 28,
   "metadata": {},
   "outputs": [
    {
     "name": "stdout",
     "output_type": "stream",
     "text": [
      "Number of subscription before applying SMOTE:  4640\n"
     ]
    }
   ],
   "source": [
    "x = df.loc[:,df.columns !='y']\n",
    "y = df.loc[:,df.columns =='y']\n",
    "print(\"Number of subscription before applying SMOTE: \",len((y[y['y']==1])))"
   ]
  },
  {
   "cell_type": "code",
   "execution_count": 32,
   "metadata": {},
   "outputs": [
    {
     "name": "stderr",
     "output_type": "stream",
     "text": [
      "E:\\Anaconda\\lib\\site-packages\\sklearn\\utils\\validation.py:761: DataConversionWarning: A column-vector y was passed when a 1d array was expected. Please change the shape of y to (n_samples, ), for example using ravel().\n",
      "  y = column_or_1d(y, warn=True)\n"
     ]
    },
    {
     "name": "stdout",
     "output_type": "stream",
     "text": [
      "length of oversampled data is:  51134\n",
      "Number of no subscription in oversampled data:  25567\n",
      "Number of subscription in oversampled data:  25567\n",
      "Proportion of no subscription data in oversampled data is:  0.5\n",
      "Proportion of subscription data in oversampled data is:  0.5\n"
     ]
    }
   ],
   "source": [
    "from imblearn.over_sampling import SMOTE\n",
    "os = SMOTE(random_state=0)\n",
    "x_train, x_test, y_train, y_test = train_test_split(x, y, test_size=0.3, random_state=0)\n",
    "columns= x_train.columns\n",
    "\n",
    "os_data_x,os_data_y=os.fit_sample(x_train, y_train)\n",
    "os_data_x=pd.DataFrame(data=os_data_x, columns = columns)\n",
    "os_data_y=pd.DataFrame(data=os_data_y,columns= ['y'])\n",
    "\n",
    "print(\"length of oversampled data is: \",len(os_data_x))\n",
    "print(\"Number of no subscription in oversampled data: \",len(os_data_y[os_data_y['y']==0]))\n",
    "print(\"Number of subscription in oversampled data: \",len(os_data_y[os_data_y['y']==1]))\n",
    "print(\"Proportion of no subscription data in oversampled data is: \",len(os_data_y[os_data_y['y']==0])/len(os_data_x))\n",
    "print(\"Proportion of subscription data in oversampled data is: \",len(os_data_y[os_data_y['y']==1])/len(os_data_x))"
   ]
  },
  {
   "cell_type": "markdown",
   "metadata": {},
   "source": [
    "\n",
    "# Recursive Feature Elimination"
   ]
  },
  {
   "cell_type": "code",
   "execution_count": 33,
   "metadata": {},
   "outputs": [],
   "source": [
    "from sklearn.feature_selection import RFE\n",
    "#Importing models\n",
    "from sklearn.linear_model import LogisticRegression\n",
    "from sklearn.ensemble import RandomForestClassifier\n",
    "from xgboost.sklearn import XGBClassifier"
   ]
  },
  {
   "cell_type": "markdown",
   "metadata": {},
   "source": [
    " Using Logistic Regression"
   ]
  },
  {
   "cell_type": "code",
   "execution_count": 35,
   "metadata": {},
   "outputs": [
    {
     "name": "stdout",
     "output_type": "stream",
     "text": [
      "[False False False False False False False False  True False  True False\n",
      "  True False False False  True False  True  True False False False False\n",
      " False False False False False  True False False False  True  True False\n",
      " False False False False False False  True  True  True False  True  True\n",
      " False  True  True  True  True False False False False False False  True\n",
      "  True False]\n",
      "[40 36 19 43 16  4 22 24  1 27  1 28  1 29 20  9  1  6  1  1 10 12  5 31\n",
      " 25 15 38  7  8  1 18 35 17  1  1 42 37 32 41 26 33 13  1  1  1  2  1  1\n",
      "  3  1  1  1  1 23 21 14 34 30 11  1  1 39]\n"
     ]
    }
   ],
   "source": [
    "logreg1=LogisticRegression(solver=\"liblinear\")\n",
    "rfe_lr=RFE(logreg1,20)\n",
    "rfe_lr = rfe_lr.fit(os_data_x,os_data_y.values.ravel())\n",
    "print(rfe_lr.support_)\n",
    "print(rfe_lr.ranking_)"
   ]
  },
  {
   "cell_type": "code",
   "execution_count": 36,
   "metadata": {},
   "outputs": [
    {
     "data": {
      "text/plain": [
       "Index(['age', 'duration', 'campaign', 'pdays', 'previous', 'emp_var_rate',\n",
       "       'cons_price_idx', 'cons_conf_idx', 'euribor3m', 'nr_employed',\n",
       "       'Cluster', 'job_admin.', 'job_blue-collar', 'job_entrepreneur',\n",
       "       'job_housemaid', 'job_management', 'job_retired', 'job_self-employed',\n",
       "       'job_services', 'job_student', 'job_technician', 'job_unemployed',\n",
       "       'job_unknown', 'marital_divorced', 'marital_married', 'marital_single',\n",
       "       'marital_unknown', 'education_Basic', 'education_high.school',\n",
       "       'education_illiterate', 'education_professional.course',\n",
       "       'education_university.degree', 'education_unknown', 'default_no',\n",
       "       'default_unknown', 'default_yes', 'housing_no', 'housing_unknown',\n",
       "       'housing_yes', 'loan_no', 'loan_unknown', 'loan_yes',\n",
       "       'contact_cellular', 'contact_telephone', 'month_apr', 'month_aug',\n",
       "       'month_dec', 'month_jul', 'month_jun', 'month_mar', 'month_may',\n",
       "       'month_nov', 'month_oct', 'month_sep', 'day_of_week_fri',\n",
       "       'day_of_week_mon', 'day_of_week_thu', 'day_of_week_tue',\n",
       "       'day_of_week_wed', 'poutcome_failure', 'poutcome_nonexistent',\n",
       "       'poutcome_success'],\n",
       "      dtype='object')"
      ]
     },
     "execution_count": 36,
     "metadata": {},
     "output_type": "execute_result"
    }
   ],
   "source": [
    "os_data_x.columns"
   ]
  },
  {
   "cell_type": "code",
   "execution_count": 37,
   "metadata": {},
   "outputs": [],
   "source": [
    "#Selecting columns for the Logistic Regression Model\n",
    "cols_lr=['euribor3m', 'job_blue-collar', 'job_housemaid', 'marital_unknown', 'education_illiterate', 'default_no', 'default_unknown', \n",
    "      'contact_cellular', 'contact_telephone', 'month_apr', 'month_aug', 'month_dec', 'month_jul', 'month_jun', 'month_mar', \n",
    "      'month_may', 'month_nov', 'month_oct', \"poutcome_failure\", \"poutcome_success\",\"Cluster\"] \n",
    "x_lr=os_data_x[cols_lr]\n",
    "y_lr=os_data_y['y']"
   ]
  },
  {
   "cell_type": "code",
   "execution_count": 38,
   "metadata": {},
   "outputs": [
    {
     "name": "stdout",
     "output_type": "stream",
     "text": [
      "Warning: Maximum number of iterations has been exceeded.\n",
      "         Current function value: 0.369148\n",
      "         Iterations: 35\n"
     ]
    },
    {
     "name": "stderr",
     "output_type": "stream",
     "text": [
      "E:\\Anaconda\\lib\\site-packages\\statsmodels\\base\\model.py:508: ConvergenceWarning: Maximum Likelihood optimization failed to converge. Check mle_retvals\n",
      "  \"Check mle_retvals\", ConvergenceWarning)\n"
     ]
    },
    {
     "name": "stdout",
     "output_type": "stream",
     "text": [
      "                                Results: Logit\n",
      "==============================================================================\n",
      "Model:                   Logit                Pseudo R-squared:     0.467     \n",
      "Dependent Variable:      y                    AIC:                  37793.9889\n",
      "Date:                    2019-06-08 17:17     BIC:                  37979.6752\n",
      "No. Observations:        51134                Log-Likelihood:       -18876.   \n",
      "Df Model:                20                   LL-Null:              -35443.   \n",
      "Df Residuals:            51113                LLR p-value:          0.0000    \n",
      "Converged:               0.0000               Scale:                1.0000    \n",
      "No. Iterations:          35.0000                                              \n",
      "------------------------------------------------------------------------------\n",
      "                      Coef.    Std.Err.    z     P>|z|     [0.025     0.975]  \n",
      "------------------------------------------------------------------------------\n",
      "euribor3m             -0.7954    0.0116 -68.2961 0.0000     -0.8182    -0.7726\n",
      "job_blue-collar       -0.4308    0.0382 -11.2661 0.0000     -0.5057    -0.3558\n",
      "job_housemaid         -0.1512    0.0992  -1.5235 0.1276     -0.3456     0.0433\n",
      "marital_unknown       -0.3497    0.2970  -1.1774 0.2390     -0.9318     0.2324\n",
      "education_illiterate   2.2976    0.5164   4.4488 0.0000      1.2853     3.3098\n",
      "default_no            14.6358 5353.5729   0.0027 0.9978 -10478.1744 10507.4459\n",
      "default_unknown       14.1624 5353.5729   0.0026 0.9979 -10478.6478 10506.9725\n",
      "contact_cellular     -12.5232 5353.5729  -0.0023 0.9981 -10505.3334 10480.2869\n",
      "contact_telephone    -12.3003 5353.5729  -0.0023 0.9982 -10505.1104 10480.5098\n",
      "month_apr             -0.7981    0.0948  -8.4144 0.0000     -0.9840    -0.6122\n",
      "month_aug             -0.3888    0.0978  -3.9768 0.0001     -0.5804    -0.1972\n",
      "month_dec             -0.5327    0.1740  -3.0611 0.0022     -0.8739    -0.1916\n",
      "month_jul             -0.4600    0.0991  -4.6428 0.0000     -0.6542    -0.2658\n",
      "month_jun             -0.3690    0.0962  -3.8367 0.0001     -0.5575    -0.1805\n",
      "month_mar              1.1694    0.1269   9.2149 0.0000      0.9207     1.4182\n",
      "month_may             -1.9124    0.0914 -20.9318 0.0000     -2.0914    -1.7333\n",
      "month_nov             -0.7129    0.1013  -7.0378 0.0000     -0.9115    -0.5144\n",
      "month_oct              1.0253    0.1274   8.0463 0.0000      0.7756     1.2751\n",
      "poutcome_failure      -0.6315    0.0443 -14.2398 0.0000     -0.7184    -0.5446\n",
      "poutcome_success      -5.8445    0.0966 -60.5231 0.0000     -6.0337    -5.6552\n",
      "Cluster                3.9067    0.0373 104.6794 0.0000      3.8335     3.9798\n",
      "==============================================================================\n",
      "\n"
     ]
    }
   ],
   "source": [
    "#Model summary for eliminating features by observing the p-values\n",
    "import statsmodels.api as sm\n",
    "logit_model=sm.Logit(y_lr,x_lr)\n",
    "result=logit_model.fit()\n",
    "print(result.summary2())"
   ]
  },
  {
   "cell_type": "code",
   "execution_count": 39,
   "metadata": {},
   "outputs": [
    {
     "name": "stdout",
     "output_type": "stream",
     "text": [
      "Optimization terminated successfully.\n",
      "         Current function value: 0.377957\n",
      "         Iterations 7\n",
      "                           Results: Logit\n",
      "=====================================================================\n",
      "Model:                Logit             Pseudo R-squared:  0.455     \n",
      "Dependent Variable:   y                 AIC:               38682.8928\n",
      "Date:                 2019-06-08 17:18  BIC:               38815.5259\n",
      "No. Observations:     51134             Log-Likelihood:    -19326.   \n",
      "Df Model:             14                LL-Null:           -35443.   \n",
      "Df Residuals:         51119             LLR p-value:       0.0000    \n",
      "Converged:            1.0000            Scale:             1.0000    \n",
      "No. Iterations:       7.0000                                         \n",
      "---------------------------------------------------------------------\n",
      "                      Coef.  Std.Err.    z     P>|z|   [0.025  0.975]\n",
      "---------------------------------------------------------------------\n",
      "euribor3m            -0.7456   0.0098 -75.8351 0.0000 -0.7649 -0.7263\n",
      "job_blue-collar      -0.4860   0.0375 -12.9641 0.0000 -0.5595 -0.4126\n",
      "education_illiterate  2.2224   0.5077   4.3777 0.0000  1.2274  3.2173\n",
      "month_apr             1.1798   0.0427  27.6146 0.0000  1.0961  1.2636\n",
      "month_aug             1.4775   0.0488  30.2641 0.0000  1.3818  1.5732\n",
      "month_dec             1.6125   0.1529  10.5483 0.0000  1.3129  1.9121\n",
      "month_jul             1.4011   0.0511  27.4169 0.0000  1.3009  1.5012\n",
      "month_jun             1.6280   0.0474  34.3462 0.0000  1.5351  1.7209\n",
      "month_mar             3.2062   0.0943  34.0022 0.0000  3.0214  3.3911\n",
      "month_may             0.0505   0.0372   1.3584 0.1743 -0.0224  0.1234\n",
      "month_nov             1.2183   0.0553  22.0499 0.0000  1.1100  1.3266\n",
      "month_oct             3.2020   0.0945  33.8860 0.0000  3.0168  3.3872\n",
      "poutcome_failure     -0.3998   0.0426  -9.3848 0.0000 -0.4833 -0.3163\n",
      "poutcome_success     -5.3855   0.0933 -57.7363 0.0000 -5.5683 -5.2027\n",
      "Cluster               3.8491   0.0366 105.1691 0.0000  3.7774  3.9208\n",
      "=====================================================================\n",
      "\n"
     ]
    }
   ],
   "source": [
    "#The p-values for most of the variables are smaller than 0.05, except six variables, therefore, we will remove them.\n",
    "\n",
    "cols_lr=['euribor3m', 'job_blue-collar', 'education_illiterate', 'month_apr', 'month_aug', 'month_dec', 'month_jul',\n",
    "         'month_jun', 'month_mar','month_may', 'month_nov', 'month_oct', \"poutcome_failure\", \"poutcome_success\",\"Cluster\"] \n",
    "x_lr=os_data_x[cols_lr]\n",
    "y_lr=os_data_y['y']\n",
    "logit_model=sm.Logit(y_lr,x_lr)\n",
    "result=logit_model.fit()\n",
    "print(result.summary2())"
   ]
  },
  {
   "cell_type": "code",
   "execution_count": 40,
   "metadata": {},
   "outputs": [
    {
     "name": "stdout",
     "output_type": "stream",
     "text": [
      "Optimization terminated successfully.\n",
      "         Current function value: 0.377975\n",
      "         Iterations 7\n",
      "                           Results: Logit\n",
      "=====================================================================\n",
      "Model:                Logit             Pseudo R-squared:  0.455     \n",
      "Dependent Variable:   y                 AIC:               38682.7353\n",
      "Date:                 2019-06-08 17:18  BIC:               38806.5262\n",
      "No. Observations:     51134             Log-Likelihood:    -19327.   \n",
      "Df Model:             13                LL-Null:           -35443.   \n",
      "Df Residuals:         51120             LLR p-value:       0.0000    \n",
      "Converged:            1.0000            Scale:             1.0000    \n",
      "No. Iterations:       7.0000                                         \n",
      "---------------------------------------------------------------------\n",
      "                      Coef.  Std.Err.    z     P>|z|   [0.025  0.975]\n",
      "---------------------------------------------------------------------\n",
      "euribor3m            -0.7384   0.0082 -89.5507 0.0000 -0.7545 -0.7222\n",
      "job_blue-collar      -0.4758   0.0367 -12.9483 0.0000 -0.5478 -0.4037\n",
      "education_illiterate  2.2220   0.5068   4.3849 0.0000  1.2288  3.2153\n",
      "month_apr             1.1654   0.0414  28.1771 0.0000  1.0843  1.2464\n",
      "month_aug             1.4493   0.0441  32.8712 0.0000  1.3628  1.5357\n",
      "month_dec             1.5987   0.1525  10.4847 0.0000  1.2998  1.8975\n",
      "month_jul             1.3670   0.0444  30.7594 0.0000  1.2799  1.4541\n",
      "month_jun             1.6006   0.0428  37.3835 0.0000  1.5167  1.6845\n",
      "month_mar             3.1956   0.0940  33.9837 0.0000  3.0113  3.3799\n",
      "month_nov             1.1890   0.0508  23.4054 0.0000  1.0894  1.2886\n",
      "month_oct             3.1791   0.0927  34.2838 0.0000  2.9973  3.3608\n",
      "poutcome_failure     -0.3780   0.0395  -9.5738 0.0000 -0.4554 -0.3006\n",
      "poutcome_success     -5.3699   0.0925 -58.0448 0.0000 -5.5513 -5.1886\n",
      "Cluster               3.8506   0.0366 105.3441 0.0000  3.7789  3.9222\n",
      "=====================================================================\n",
      "\n"
     ]
    }
   ],
   "source": [
    "#The p-values for the varaible month_may is more , therefore, we will remove it.\n",
    "\n",
    "cols_lr=['euribor3m', 'job_blue-collar', 'education_illiterate', 'month_apr', 'month_aug', 'month_dec', 'month_jul',\n",
    "         'month_jun', 'month_mar', 'month_nov', 'month_oct', \"poutcome_failure\", \"poutcome_success\",\"Cluster\"] \n",
    "x_lr=os_data_x[cols_lr]\n",
    "y_lr=os_data_y['y']\n",
    "logit_model=sm.Logit(y_lr,x_lr)\n",
    "result=logit_model.fit()\n",
    "print(result.summary2())"
   ]
  },
  {
   "cell_type": "markdown",
   "metadata": {},
   "source": [
    "Using Random Forest Algorithm"
   ]
  },
  {
   "cell_type": "code",
   "execution_count": 41,
   "metadata": {
    "scrolled": true
   },
   "outputs": [
    {
     "name": "stdout",
     "output_type": "stream",
     "text": [
      "[ True  True  True False False  True  True  True  True  True  True False\n",
      " False False False False False False False False False False False False\n",
      "  True False False  True False False False  True False False False False\n",
      " False False  True False False False  True False False False False False\n",
      " False False  True False False False False False False False False False\n",
      " False False]\n",
      "[ 1  1  1 24 10  1  1  1  1  1  1  4 14 39 40 31 30 37 27 35 20 38 44 26\n",
      "  1 12 47  1 15 46 21  1 33 13 23 48  5 42  1 19 41 25  1  2  8 28 45 29\n",
      " 34 22  1 32 17 43  6  3  9  7 16 11 18 36]\n"
     ]
    }
   ],
   "source": [
    "rf1=RandomForestClassifier(n_estimators=15)\n",
    "\n",
    "rfe_rf=RFE(rf1,15)\n",
    "\n",
    "rfe_rf = rfe_rf.fit(os_data_x,os_data_y.values.ravel())\n",
    "\n",
    "print(rfe_rf.support_)\n",
    "print(rfe_rf.ranking_)"
   ]
  },
  {
   "cell_type": "code",
   "execution_count": 42,
   "metadata": {},
   "outputs": [
    {
     "data": {
      "text/plain": [
       "Index(['age', 'duration', 'campaign', 'pdays', 'previous', 'emp_var_rate',\n",
       "       'cons_price_idx', 'cons_conf_idx', 'euribor3m', 'nr_employed',\n",
       "       'Cluster', 'job_admin.', 'job_blue-collar', 'job_entrepreneur',\n",
       "       'job_housemaid', 'job_management', 'job_retired', 'job_self-employed',\n",
       "       'job_services', 'job_student', 'job_technician', 'job_unemployed',\n",
       "       'job_unknown', 'marital_divorced', 'marital_married', 'marital_single',\n",
       "       'marital_unknown', 'education_Basic', 'education_high.school',\n",
       "       'education_illiterate', 'education_professional.course',\n",
       "       'education_university.degree', 'education_unknown', 'default_no',\n",
       "       'default_unknown', 'default_yes', 'housing_no', 'housing_unknown',\n",
       "       'housing_yes', 'loan_no', 'loan_unknown', 'loan_yes',\n",
       "       'contact_cellular', 'contact_telephone', 'month_apr', 'month_aug',\n",
       "       'month_dec', 'month_jul', 'month_jun', 'month_mar', 'month_may',\n",
       "       'month_nov', 'month_oct', 'month_sep', 'day_of_week_fri',\n",
       "       'day_of_week_mon', 'day_of_week_thu', 'day_of_week_tue',\n",
       "       'day_of_week_wed', 'poutcome_failure', 'poutcome_nonexistent',\n",
       "       'poutcome_success'],\n",
       "      dtype='object')"
      ]
     },
     "execution_count": 42,
     "metadata": {},
     "output_type": "execute_result"
    }
   ],
   "source": [
    "os_data_x.columns"
   ]
  },
  {
   "cell_type": "code",
   "execution_count": 43,
   "metadata": {},
   "outputs": [],
   "source": [
    "cols_rf=['age','duration','campaign','emp_var_rate','cons_price_idx','cons_conf_idx','euribor3m','nr_employed','Cluster',\n",
    "       'education_Basic','education_university.degree','housing_no','contact_cellular','month_mar','day_of_week_fri'] \n",
    "\n",
    "x_rf=os_data_x[cols_rf]\n",
    "y_rf=os_data_y['y']"
   ]
  },
  {
   "cell_type": "markdown",
   "metadata": {},
   "source": [
    "Using XgBoost"
   ]
  },
  {
   "cell_type": "code",
   "execution_count": 44,
   "metadata": {},
   "outputs": [
    {
     "name": "stdout",
     "output_type": "stream",
     "text": [
      "[False  True  True  True False  True False  True  True  True  True  True\n",
      " False False False False False False False False False False False False\n",
      " False False False  True False False False  True False False False False\n",
      "  True False False False False False False False False False False False\n",
      " False  True False False False False False  True False  True False False\n",
      " False False]\n",
      "[ 2  1  1  1 20  1 21  1  1  1  1  1 17 26 41 31 18 30 23 19 14 43 40 33\n",
      "  8 27 42  1 13 46 24  1 47 11 48 45  1 34  9 22 39 36  3 37  5 28 38 29\n",
      " 25  1 15 16 12 44  6  1  4  1 10  7 35 32]\n"
     ]
    }
   ],
   "source": [
    "xgb1 = XGBClassifier()\n",
    "\n",
    "rfe_xgb=RFE(xgb1,15)\n",
    "\n",
    "rfe_xgb = rfe_xgb.fit(os_data_x,os_data_y.values.ravel())\n",
    "\n",
    "print(rfe_xgb.support_)\n",
    "print(rfe_xgb.ranking_)"
   ]
  },
  {
   "cell_type": "code",
   "execution_count": 45,
   "metadata": {},
   "outputs": [
    {
     "data": {
      "text/plain": [
       "Index(['age', 'duration', 'campaign', 'pdays', 'previous', 'emp_var_rate',\n",
       "       'cons_price_idx', 'cons_conf_idx', 'euribor3m', 'nr_employed',\n",
       "       'Cluster', 'job_admin.', 'job_blue-collar', 'job_entrepreneur',\n",
       "       'job_housemaid', 'job_management', 'job_retired', 'job_self-employed',\n",
       "       'job_services', 'job_student', 'job_technician', 'job_unemployed',\n",
       "       'job_unknown', 'marital_divorced', 'marital_married', 'marital_single',\n",
       "       'marital_unknown', 'education_Basic', 'education_high.school',\n",
       "       'education_illiterate', 'education_professional.course',\n",
       "       'education_university.degree', 'education_unknown', 'default_no',\n",
       "       'default_unknown', 'default_yes', 'housing_no', 'housing_unknown',\n",
       "       'housing_yes', 'loan_no', 'loan_unknown', 'loan_yes',\n",
       "       'contact_cellular', 'contact_telephone', 'month_apr', 'month_aug',\n",
       "       'month_dec', 'month_jul', 'month_jun', 'month_mar', 'month_may',\n",
       "       'month_nov', 'month_oct', 'month_sep', 'day_of_week_fri',\n",
       "       'day_of_week_mon', 'day_of_week_thu', 'day_of_week_tue',\n",
       "       'day_of_week_wed', 'poutcome_failure', 'poutcome_nonexistent',\n",
       "       'poutcome_success'],\n",
       "      dtype='object')"
      ]
     },
     "execution_count": 45,
     "metadata": {},
     "output_type": "execute_result"
    }
   ],
   "source": [
    "os_data_x.columns"
   ]
  },
  {
   "cell_type": "code",
   "execution_count": 46,
   "metadata": {},
   "outputs": [],
   "source": [
    "cols_xgb=['duration','campaign','pdays','emp_var_rate','cons_conf_idx','euribor3m','nr_employed','Cluster',\n",
    "       'marital_unknown','education_professional.course','default_yes','month_jun','day_of_week_fri','day_of_week_thu'] \n",
    "\n",
    "x_xgb=os_data_x[cols_xgb]\n",
    "y_xgb=os_data_y['y']"
   ]
  },
  {
   "cell_type": "markdown",
   "metadata": {},
   "source": [
    "# Cross Validation and Hyperparameter tuning"
   ]
  },
  {
   "cell_type": "code",
   "execution_count": 47,
   "metadata": {},
   "outputs": [],
   "source": [
    "from sklearn.model_selection import cross_val_score\n",
    "from sklearn.model_selection import GridSearchCV"
   ]
  },
  {
   "cell_type": "code",
   "execution_count": 48,
   "metadata": {},
   "outputs": [],
   "source": [
    "#For Logistic Regression\n",
    "\n",
    "logreg = LogisticRegression(solver=\"liblinear\")\n",
    "x_train_lr, x_test_lr, y_train_lr, y_test_lr = train_test_split(x_lr, y_lr, test_size=0.3, random_state=0)"
   ]
  },
  {
   "cell_type": "code",
   "execution_count": 58,
   "metadata": {},
   "outputs": [
    {
     "data": {
      "text/plain": [
       "GridSearchCV(cv=5, error_score='raise-deprecating',\n",
       "       estimator=RandomForestClassifier(bootstrap=True, class_weight=None, criterion='gini',\n",
       "            max_depth=None, max_features='auto', max_leaf_nodes=None,\n",
       "            min_impurity_decrease=0.0, min_impurity_split=None,\n",
       "            min_samples_leaf=1, min_samples_split=2,\n",
       "            min_weight_fraction_leaf=0.0, n_estimators='warn', n_jobs=None,\n",
       "            oob_score=False, random_state=None, verbose=0,\n",
       "            warm_start=False),\n",
       "       fit_params=None, iid='warn', n_jobs=-1,\n",
       "       param_grid={'n_estimators': [300, 500, 150], 'max_features': [3, 5, 7, 9]},\n",
       "       pre_dispatch='2*n_jobs', refit=True, return_train_score='warn',\n",
       "       scoring=None, verbose=0)"
      ]
     },
     "execution_count": 58,
     "metadata": {},
     "output_type": "execute_result"
    }
   ],
   "source": [
    "#For Random Forest Classifier\n",
    "\n",
    "rf = RandomForestClassifier()\n",
    "x_train_rf, x_test_rf, y_train_rf, y_test_rf = train_test_split(x_rf, y_rf, test_size=0.3, random_state=0)\n",
    "\n",
    "rf_param = {'n_estimators':[300,500,150],'max_features':[3,5,7,9]}\n",
    "best_rf = GridSearchCV(estimator=rf,param_grid=rf_param,cv=5,n_jobs=-1)\n",
    "\n",
    "best_rf.fit(x_train_rf,y_train_rf)"
   ]
  },
  {
   "cell_type": "code",
   "execution_count": 59,
   "metadata": {},
   "outputs": [
    {
     "data": {
      "text/plain": [
       "GridSearchCV(cv=5, error_score='raise-deprecating',\n",
       "       estimator=XGBClassifier(base_score=0.5, booster='gbtree', colsample_bylevel=1,\n",
       "       colsample_bytree=1, gamma=0, learning_rate=0.1, max_delta_step=0,\n",
       "       max_depth=3, min_child_weight=1, missing=None, n_estimators=100,\n",
       "       n_jobs=1, nthread=None, objective='binary:logistic', random_state=0,\n",
       "       reg_alpha=0, reg_lambda=1, scale_pos_weight=1, seed=None,\n",
       "       silent=True, subsample=1),\n",
       "       fit_params=None, iid='warn', n_jobs=-1,\n",
       "       param_grid={'n_estimators': [1000, 100, 150]},\n",
       "       pre_dispatch='2*n_jobs', refit=True, return_train_score='warn',\n",
       "       scoring=None, verbose=0)"
      ]
     },
     "execution_count": 59,
     "metadata": {},
     "output_type": "execute_result"
    }
   ],
   "source": [
    "#For XgBoost Classifier\n",
    "\n",
    "xgb = XGBClassifier()\n",
    "\n",
    "x_train_xgb, x_test_xgb, y_train_xgb, y_test_xgb = train_test_split(x_xgb, y_xgb, test_size=0.3, random_state=0)\n",
    "\n",
    "xgb_param = {'n_estimators':[1000,100,150]}\n",
    "best_xgb = GridSearchCV(estimator=xgb,param_grid=xgb_param,cv=5,n_jobs=-1)\n",
    "\n",
    "best_xgb.fit(x_train_xgb,y_train_xgb)"
   ]
  },
  {
   "cell_type": "code",
   "execution_count": 60,
   "metadata": {},
   "outputs": [
    {
     "name": "stdout",
     "output_type": "stream",
     "text": [
      "The cross validation for Logistic Regression is:  0.8562009227704379\n",
      "The cross validation for Random Forest Classifier is:  0.9492077780203447\n",
      "The cross validation for XgBoost Classifier is:  0.9453525728642889\n"
     ]
    }
   ],
   "source": [
    "#Cross Validation scores for each algorithms\n",
    "\n",
    "cv_lr = cross_val_score(estimator=logreg,X=x_train_lr,y=y_train_lr,cv=5,n_jobs=-1).mean()\n",
    "print(\"The cross validation for Logistic Regression is: \",cv_lr)\n",
    "\n",
    "cv_rf = cross_val_score(estimator=best_rf.best_estimator_,X=x_train_rf,y=y_train_rf,cv=5,n_jobs=-1).mean()\n",
    "print(\"The cross validation for Random Forest Classifier is: \",cv_rf)\n",
    "\n",
    "cv_xgb = cross_val_score(estimator=best_xgb.best_estimator_,X=x_train_xgb,y=y_train_xgb,cv=5,n_jobs=-1).mean()\n",
    "print(\"The cross validation for XgBoost Classifier is: \",cv_xgb)"
   ]
  },
  {
   "cell_type": "markdown",
   "metadata": {},
   "source": [
    "# Fitting the Models"
   ]
  },
  {
   "cell_type": "code",
   "execution_count": 61,
   "metadata": {},
   "outputs": [
    {
     "data": {
      "text/plain": [
       "LogisticRegression(C=1.0, class_weight=None, dual=False, fit_intercept=True,\n",
       "          intercept_scaling=1, max_iter=100, multi_class='warn',\n",
       "          n_jobs=None, penalty='l2', random_state=None, solver='liblinear',\n",
       "          tol=0.0001, verbose=0, warm_start=False)"
      ]
     },
     "execution_count": 61,
     "metadata": {},
     "output_type": "execute_result"
    }
   ],
   "source": [
    "#Fitting Logistic Regression\n",
    "logreg.fit(x_train_lr, y_train_lr.values.ravel())"
   ]
  },
  {
   "cell_type": "code",
   "execution_count": 62,
   "metadata": {},
   "outputs": [
    {
     "data": {
      "text/plain": [
       "GridSearchCV(cv=5, error_score='raise-deprecating',\n",
       "       estimator=RandomForestClassifier(bootstrap=True, class_weight=None, criterion='gini',\n",
       "            max_depth=None, max_features='auto', max_leaf_nodes=None,\n",
       "            min_impurity_decrease=0.0, min_impurity_split=None,\n",
       "            min_samples_leaf=1, min_samples_split=2,\n",
       "            min_weight_fraction_leaf=0.0, n_estimators='warn', n_jobs=None,\n",
       "            oob_score=False, random_state=None, verbose=0,\n",
       "            warm_start=False),\n",
       "       fit_params=None, iid='warn', n_jobs=-1,\n",
       "       param_grid={'n_estimators': [300, 500, 150], 'max_features': [3, 5, 7, 9]},\n",
       "       pre_dispatch='2*n_jobs', refit=True, return_train_score='warn',\n",
       "       scoring=None, verbose=0)"
      ]
     },
     "execution_count": 62,
     "metadata": {},
     "output_type": "execute_result"
    }
   ],
   "source": [
    "#Fitting Random Forest Classifier\n",
    "best_rf.fit(X=x_train_rf,y=y_train_rf.values.ravel())"
   ]
  },
  {
   "cell_type": "code",
   "execution_count": null,
   "metadata": {},
   "outputs": [],
   "source": [
    "#Fitting XgBoost Classifier\n",
    "best_xgb.fit(X=x_train_xgb,y=y_train_xgb.values.ravel())"
   ]
  },
  {
   "cell_type": "markdown",
   "metadata": {},
   "source": [
    "# Prediction using the models"
   ]
  },
  {
   "cell_type": "code",
   "execution_count": 63,
   "metadata": {},
   "outputs": [],
   "source": [
    "#Logistic Regression\n",
    "y_pred_lr = logreg.predict(x_test_lr)"
   ]
  },
  {
   "cell_type": "code",
   "execution_count": 64,
   "metadata": {},
   "outputs": [],
   "source": [
    "#Random Forest Classifier\n",
    "y_pred_rf = best_rf.predict(x_test_rf)"
   ]
  },
  {
   "cell_type": "code",
   "execution_count": 65,
   "metadata": {},
   "outputs": [],
   "source": [
    "#XgBoost Classifier\n",
    "y_pred_xgb = best_xgb.predict(x_test_xgb)"
   ]
  },
  {
   "cell_type": "markdown",
   "metadata": {},
   "source": [
    "# Confusion Matrix and Computing precision, recall, F-measure and support"
   ]
  },
  {
   "cell_type": "code",
   "execution_count": 66,
   "metadata": {},
   "outputs": [],
   "source": [
    "from sklearn import metrics\n",
    "from sklearn.metrics import confusion_matrix\n",
    "from sklearn.metrics import classification_report "
   ]
  },
  {
   "cell_type": "code",
   "execution_count": 67,
   "metadata": {},
   "outputs": [
    {
     "name": "stdout",
     "output_type": "stream",
     "text": [
      "Logistic Regression: \n",
      " [[6378 1288]\n",
      " [ 894 6781]]\n",
      "Random Forest Classifier: \n",
      " [[7219  447]\n",
      " [ 286 7389]]\n",
      "XgBoost Classifier: \n",
      " [[7246  420]\n",
      " [ 411 7264]]\n"
     ]
    }
   ],
   "source": [
    "#Confusion matrix for Logistic Regression\n",
    "confusion_matrix_lr = confusion_matrix(y_test_lr, y_pred_lr)\n",
    "print(\"Logistic Regression: \\n\",confusion_matrix_lr)\n",
    "\n",
    "#Confusion matrix for Random Forest Classifier\n",
    "confusion_matrix_rf = confusion_matrix(y_test_rf, y_pred_rf)\n",
    "print(\"Random Forest Classifier: \\n\",confusion_matrix_rf)\n",
    "\n",
    "#Confusion matrix for XgBoost Classifier\n",
    "confusion_matrix_xgb = confusion_matrix(y_test_xgb, y_pred_xgb)\n",
    "print(\"XgBoost Classifier: \\n\",confusion_matrix_xgb)"
   ]
  },
  {
   "cell_type": "code",
   "execution_count": 68,
   "metadata": {},
   "outputs": [
    {
     "name": "stdout",
     "output_type": "stream",
     "text": [
      "Logistic Regression:\n",
      "                precision    recall  f1-score   support\n",
      "\n",
      "           0       0.88      0.83      0.85      7666\n",
      "           1       0.84      0.88      0.86      7675\n",
      "\n",
      "   micro avg       0.86      0.86      0.86     15341\n",
      "   macro avg       0.86      0.86      0.86     15341\n",
      "weighted avg       0.86      0.86      0.86     15341\n",
      "\n",
      "Random Forest Classifier: \n",
      "               precision    recall  f1-score   support\n",
      "\n",
      "           0       0.96      0.94      0.95      7666\n",
      "           1       0.94      0.96      0.95      7675\n",
      "\n",
      "   micro avg       0.95      0.95      0.95     15341\n",
      "   macro avg       0.95      0.95      0.95     15341\n",
      "weighted avg       0.95      0.95      0.95     15341\n",
      "\n",
      "XgBoost Classifier:\n",
      "                precision    recall  f1-score   support\n",
      "\n",
      "           0       0.95      0.95      0.95      7666\n",
      "           1       0.95      0.95      0.95      7675\n",
      "\n",
      "   micro avg       0.95      0.95      0.95     15341\n",
      "   macro avg       0.95      0.95      0.95     15341\n",
      "weighted avg       0.95      0.95      0.95     15341\n",
      "\n"
     ]
    }
   ],
   "source": [
    "print(\"Logistic Regression:\\n \",classification_report(y_test_lr, y_pred_lr))\n",
    "print(\"Random Forest Classifier: \\n\",classification_report(y_test_rf, y_pred_rf))\n",
    "print(\"XgBoost Classifier:\\n \",classification_report(y_test_xgb, y_pred_xgb))"
   ]
  },
  {
   "cell_type": "markdown",
   "metadata": {},
   "source": [
    "# ROC Curve"
   ]
  },
  {
   "cell_type": "code",
   "execution_count": 69,
   "metadata": {},
   "outputs": [],
   "source": [
    "from sklearn.metrics import roc_auc_score\n",
    "from sklearn.metrics import roc_curve"
   ]
  },
  {
   "cell_type": "code",
   "execution_count": 70,
   "metadata": {},
   "outputs": [
    {
     "data": {
      "image/png": "[encoded data removed]",
      "text/plain": [
       "<Figure size 432x288 with 1 Axes>"
      ]
     },
     "metadata": {
      "needs_background": "light"
     },
     "output_type": "display_data"
    }
   ],
   "source": [
    "# AUC ROC for Logistic Regression\n",
    "\n",
    "logit_roc_auc = roc_auc_score(y_test_lr, logreg.predict(x_test_lr))\n",
    "fpr, tpr, thresholds = roc_curve(y_test_lr, logreg.predict_proba(x_test_lr)[:,1])\n",
    "plt.figure()\n",
    "plt.plot(fpr, tpr, label='Logistic Regression (area = %0.3f)' % logit_roc_auc)\n",
    "plt.plot([0, 1], [0, 1],'r--')\n",
    "plt.xlim([0.0, 1.0])\n",
    "plt.ylim([0.0, 1.05])\n",
    "plt.xlabel('False Positive Rate')\n",
    "plt.ylabel('True Positive Rate')\n",
    "plt.title('Receiver operating characteristic')\n",
    "plt.legend(loc=\"lower right\")\n",
    "plt.savefig('Log_ROC')\n",
    "plt.show()"
   ]
  },
  {
   "cell_type": "code",
   "execution_count": 71,
   "metadata": {},
   "outputs": [
    {
     "data": {
      "image/png": "[encoded data removed]",
      "text/plain": [
       "<Figure size 432x288 with 1 Axes>"
      ]
     },
     "metadata": {
      "needs_background": "light"
     },
     "output_type": "display_data"
    }
   ],
   "source": [
    "# AUC ROC for Random Forest Classifier\n",
    "\n",
    "rf_roc_auc = roc_auc_score(y_test_rf, best_rf.predict(x_test_rf))\n",
    "fpr, tpr, thresholds = roc_curve(y_test_rf, best_rf.predict_proba(x_test_rf)[:,1])\n",
    "plt.figure()\n",
    "plt.plot(fpr, tpr, label='Random Forest Classifier (area = %0.3f)' % rf_roc_auc)\n",
    "plt.plot([0, 1], [0, 1],'r--')\n",
    "plt.xlim([0.0, 1.0])\n",
    "plt.ylim([0.0, 1.05])\n",
    "plt.xlabel('False Positive Rate')\n",
    "plt.ylabel('True Positive Rate')\n",
    "plt.title('Receiver operating characteristic')\n",
    "plt.legend(loc=\"lower right\")\n",
    "plt.savefig('RandomForest_ROC')\n",
    "plt.show()"
   ]
  },
  {
   "cell_type": "code",
   "execution_count": 73,
   "metadata": {},
   "outputs": [
    {
     "data": {
      "image/png": "[encoded data removed]",
      "text/plain": [
       "<Figure size 432x288 with 1 Axes>"
      ]
     },
     "metadata": {
      "needs_background": "light"
     },
     "output_type": "display_data"
    }
   ],
   "source": [
    "# AUC ROC for XgBoost Classifier\n",
    "\n",
    "rf_roc_auc = roc_auc_score(y_test_xgb, best_xgb.predict(x_test_xgb))\n",
    "fpr, tpr, thresholds = roc_curve(y_test_xgb, best_xgb.predict_proba(x_test_xgb)[:,1])\n",
    "plt.figure()\n",
    "plt.plot(fpr, tpr, label='XgBoost (area = %0.3f)' % rf_roc_auc)\n",
    "plt.plot([0, 1], [0, 1],'r--')\n",
    "plt.xlim([0.0, 1.0])\n",
    "plt.ylim([0.0, 1.05])\n",
    "plt.xlabel('False Positive Rate')\n",
    "plt.ylabel('True Positive Rate')\n",
    "plt.title('Receiver operating characteristic')\n",
    "plt.legend(loc=\"lower right\")\n",
    "plt.savefig('XgBoost_ROC')\n",
    "plt.show()"
   ]
  }
 ],
 "metadata": {
  "kernelspec": {
   "display_name": "Python 3",
   "language": "python",
   "name": "python3"
  },
  "language_info": {
   "codemirror_mode": {
    "name": "ipython",
    "version": 3
   },
   "file_extension": ".py",
   "mimetype": "text/x-python",
   "name": "python",
   "nbconvert_exporter": "python",
   "pygments_lexer": "ipython3",
   "version": "3.7.1"
  }
 },
 "nbformat": 4,
 "nbformat_minor": 2
}
